{
 "cells": [
  {
   "cell_type": "code",
   "execution_count": null,
   "metadata": {},
   "outputs": [],
   "source": [
    "from confluent_kafka import Consumer"
   ]
  },
  {
   "cell_type": "code",
   "execution_count": null,
   "metadata": {},
   "outputs": [],
   "source": [
    "def login_info():\n",
    "    info={\n",
    "        'bootstrap.servers':'pkc-lzvrd.us-west4.gcp.confluent.cloud:9092',\n",
    "        'security.protocol':'SASL_SSL',\n",
    "        'sasl.mechanism':'PLAIN',\n",
    "        'sasl.username':'P3FP4JOSTVZS2XWF',\n",
    "        'sasl.password':'j4N3yUaVe6y6oRsie5upI3isMePZKRD3C7dozvKSu35DBe12nnIj6XUd9JUIbvZp',\n",
    "        'partitioner':'consistent_random',\n",
    "        'group.id':'testing',\n",
    "        'auto.offset.reset':'earliest'\n",
    "\n",
    "    }\n",
    "    return info"
   ]
  },
  {
   "cell_type": "code",
   "execution_count": null,
   "metadata": {},
   "outputs": [],
   "source": [
    "type(login_info())"
   ]
  },
  {
   "cell_type": "code",
   "execution_count": null,
   "metadata": {},
   "outputs": [],
   "source": [
    "c=Consumer(login_info())"
   ]
  },
  {
   "cell_type": "code",
   "execution_count": null,
   "metadata": {},
   "outputs": [],
   "source": [
    "print(c.list_topics().topics)\n",
    "d=c.list_topics().topics"
   ]
  },
  {
   "cell_type": "code",
   "execution_count": null,
   "metadata": {},
   "outputs": [],
   "source": [
    "topic='topic_1'"
   ]
  },
  {
   "cell_type": "code",
   "execution_count": null,
   "metadata": {},
   "outputs": [],
   "source": [
    "c.subscribe([topic])"
   ]
  },
  {
   "cell_type": "code",
   "execution_count": null,
   "metadata": {},
   "outputs": [],
   "source": [
    "def consume():\n",
    "    info={\n",
    "            'bootstrap.servers':'pkc-lzvrd.us-west4.gcp.confluent.cloud:9092',\n",
    "            'security.protocol':'SASL_SSL',\n",
    "            'sasl.mechanism':'PLAIN',\n",
    "            'sasl.username':'P3FP4JOSTVZS2XWF',\n",
    "            'sasl.password':'j4N3yUaVe6y6oRsie5upI3isMePZKRD3C7dozvKSu35DBe12nnIj6XUd9JUIbvZp',\n",
    "            'partitioner':'consistent_random',\n",
    "            'group.id':'testing',\n",
    "            'auto.offset.reset':'earliest'\n",
    "        }\n",
    "\n",
    "\n",
    "    c=Consumer(info)\n",
    "    topic='topic_1'\n",
    "    c.subscribe([topic])\n",
    "\n",
    "\n",
    "    while True:\n",
    "        try:\n",
    "            msg=c.poll(5.0)\n",
    "        \n",
    "            if msg is None:\n",
    "                print('wainting for messages!!')\n",
    "                continue\n",
    "            elif msg is not None:\n",
    "                msg_value=msg.value().decode('utf-8')\n",
    "                #print(msg_value)\n",
    "                print(type(msg_value))\n",
    "                print(f'The following messages are f{msg.value()} which was delivered')\n",
    "            \n",
    "        except KeyboardInterrupt:\n",
    "            print('closing the consumer code')\n",
    "            break\n",
    "    c.close()\n"
   ]
  },
  {
   "cell_type": "code",
   "execution_count": null,
   "metadata": {},
   "outputs": [],
   "source": [
    "import schedule\n",
    "import time"
   ]
  },
  {
   "cell_type": "code",
   "execution_count": 131,
   "metadata": {},
   "outputs": [
    {
     "name": "stdout",
     "output_type": "stream",
     "text": [
      "wainting for messages!!\n",
      "closing the consumer code\n"
     ]
    },
    {
     "ename": "TypeError",
     "evalue": "the first argument must be callable",
     "output_type": "error",
     "traceback": [
      "\u001b[1;31m---------------------------------------------------------------------------\u001b[0m",
      "\u001b[1;31mTypeError\u001b[0m                                 Traceback (most recent call last)",
      "Cell \u001b[1;32mIn[131], line 1\u001b[0m\n\u001b[1;32m----> 1\u001b[0m schedule\u001b[39m.\u001b[39;49mevery()\u001b[39m.\u001b[39;49msunday\u001b[39m.\u001b[39;49mat(\u001b[39m'\u001b[39;49m\u001b[39m17:55\u001b[39;49m\u001b[39m'\u001b[39;49m)\u001b[39m.\u001b[39;49mdo(consume())\n",
      "File \u001b[1;32mc:\\Users\\javva\\anaconda3\\lib\\site-packages\\schedule\\__init__.py:657\u001b[0m, in \u001b[0;36mJob.do\u001b[1;34m(self, job_func, *args, **kwargs)\u001b[0m\n\u001b[0;32m    646\u001b[0m \u001b[39mdef\u001b[39;00m \u001b[39mdo\u001b[39m(\u001b[39mself\u001b[39m, job_func: Callable, \u001b[39m*\u001b[39margs, \u001b[39m*\u001b[39m\u001b[39m*\u001b[39mkwargs):\n\u001b[0;32m    647\u001b[0m     \u001b[39m\"\"\"\u001b[39;00m\n\u001b[0;32m    648\u001b[0m \u001b[39m    Specifies the job_func that should be called every time the\u001b[39;00m\n\u001b[0;32m    649\u001b[0m \u001b[39m    job runs.\u001b[39;00m\n\u001b[1;32m   (...)\u001b[0m\n\u001b[0;32m    655\u001b[0m \u001b[39m    :return: The invoked job instance\u001b[39;00m\n\u001b[0;32m    656\u001b[0m \u001b[39m    \"\"\"\u001b[39;00m\n\u001b[1;32m--> 657\u001b[0m     \u001b[39mself\u001b[39m\u001b[39m.\u001b[39mjob_func \u001b[39m=\u001b[39m functools\u001b[39m.\u001b[39mpartial(job_func, \u001b[39m*\u001b[39margs, \u001b[39m*\u001b[39m\u001b[39m*\u001b[39mkwargs)\n\u001b[0;32m    658\u001b[0m     functools\u001b[39m.\u001b[39mupdate_wrapper(\u001b[39mself\u001b[39m\u001b[39m.\u001b[39mjob_func, job_func)\n\u001b[0;32m    659\u001b[0m     \u001b[39mself\u001b[39m\u001b[39m.\u001b[39m_schedule_next_run()\n",
      "\u001b[1;31mTypeError\u001b[0m: the first argument must be callable"
     ]
    }
   ],
   "source": [
    "schedule.every().sunday.at('17:55').do(consume())"
   ]
  },
  {
   "cell_type": "code",
   "execution_count": null,
   "metadata": {},
   "outputs": [],
   "source": [
    "while True:\n",
    "    schedule.run_pending()\n",
    "    print(schedule.get_jobs())\n",
    "    time.sleep(1)\n",
    "    "
   ]
  }
 ],
 "metadata": {
  "kernelspec": {
   "display_name": "base",
   "language": "python",
   "name": "python3"
  },
  "language_info": {
   "codemirror_mode": {
    "name": "ipython",
    "version": 3
   },
   "file_extension": ".py",
   "mimetype": "text/x-python",
   "name": "python",
   "nbconvert_exporter": "python",
   "pygments_lexer": "ipython3",
   "version": "3.10.9"
  },
  "orig_nbformat": 4
 },
 "nbformat": 4,
 "nbformat_minor": 2
}
