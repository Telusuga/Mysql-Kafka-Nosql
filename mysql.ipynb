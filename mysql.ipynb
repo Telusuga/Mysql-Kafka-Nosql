{
 "cells": [
  {
   "cell_type": "code",
   "execution_count": 1,
   "metadata": {},
   "outputs": [
    {
     "name": "stdout",
     "output_type": "stream",
     "text": [
      "Requirement already satisfied: mysql-connector-python in c:\\users\\javva\\anaconda3\\lib\\site-packages (8.0.33)\n",
      "Requirement already satisfied: protobuf<=3.20.3,>=3.11.0 in c:\\users\\javva\\anaconda3\\lib\\site-packages (from mysql-connector-python) (3.20.3)\n"
     ]
    }
   ],
   "source": [
    "!pip install mysql-connector-python"
   ]
  },
  {
   "cell_type": "code",
   "execution_count": 2,
   "metadata": {},
   "outputs": [],
   "source": [
    "import mysql.connector\n"
   ]
  },
  {
   "cell_type": "code",
   "execution_count": 82,
   "metadata": {},
   "outputs": [],
   "source": [
    "mydb=mysql.connector.connect(\n",
    "    host='localhost',\n",
    "    user='root',\n",
    "    password='root'\n",
    ")\n"
   ]
  },
  {
   "cell_type": "code",
   "execution_count": 83,
   "metadata": {},
   "outputs": [
    {
     "name": "stdout",
     "output_type": "stream",
     "text": [
      "<mysql.connector.connection_cext.CMySQLConnection object at 0x0000014082C4E5F0>\n"
     ]
    }
   ],
   "source": [
    "print(mydb)"
   ]
  },
  {
   "cell_type": "code",
   "execution_count": 84,
   "metadata": {},
   "outputs": [],
   "source": [
    "cu=mydb.cursor()"
   ]
  },
  {
   "cell_type": "code",
   "execution_count": 85,
   "metadata": {},
   "outputs": [],
   "source": [
    "cu.execute('use world')"
   ]
  },
  {
   "cell_type": "code",
   "execution_count": 86,
   "metadata": {},
   "outputs": [],
   "source": [
    "cu.execute('show tables')"
   ]
  },
  {
   "cell_type": "code",
   "execution_count": 87,
   "metadata": {},
   "outputs": [],
   "source": [
    "res=cu.fetchall()"
   ]
  },
  {
   "cell_type": "code",
   "execution_count": 88,
   "metadata": {},
   "outputs": [
    {
     "name": "stdout",
     "output_type": "stream",
     "text": [
      "('city',)\n",
      "('country',)\n",
      "('countrylanguage',)\n"
     ]
    }
   ],
   "source": [
    "for i in res:\n",
    "    print(i)"
   ]
  },
  {
   "cell_type": "code",
   "execution_count": 89,
   "metadata": {},
   "outputs": [],
   "source": [
    "cu.execute('select * from city limit 10')"
   ]
  },
  {
   "cell_type": "code",
   "execution_count": 90,
   "metadata": {},
   "outputs": [],
   "source": [
    "select=cu.fetchall()"
   ]
  },
  {
   "cell_type": "code",
   "execution_count": 94,
   "metadata": {},
   "outputs": [
    {
     "data": {
      "text/plain": [
       "[(1, 'Kabul', 'AFG', 'Kabol', 1780000),\n",
       " (2, 'Qandahar', 'AFG', 'Qandahar', 237500),\n",
       " (3, 'Herat', 'AFG', 'Herat', 186800),\n",
       " (4, 'Mazar-e-Sharif', 'AFG', 'Balkh', 127800),\n",
       " (5, 'Amsterdam', 'NLD', 'Noord-Holland', 731200),\n",
       " (6, 'Rotterdam', 'NLD', 'Zuid-Holland', 593321),\n",
       " (7, 'Haag', 'NLD', 'Zuid-Holland', 440900),\n",
       " (8, 'Utrecht', 'NLD', 'Utrecht', 234323),\n",
       " (9, 'Eindhoven', 'NLD', 'Noord-Brabant', 201843),\n",
       " (10, 'Tilburg', 'NLD', 'Noord-Brabant', 193238)]"
      ]
     },
     "execution_count": 94,
     "metadata": {},
     "output_type": "execute_result"
    }
   ],
   "source": [
    "select"
   ]
  },
  {
   "cell_type": "code",
   "execution_count": 93,
   "metadata": {},
   "outputs": [
    {
     "data": {
      "text/plain": [
       "[('ID', 3, None, None, None, None, 0, 49667, 63),\n",
       " ('Name', 254, None, None, None, None, 0, 1, 255),\n",
       " ('CountryCode', 254, None, None, None, None, 0, 16393, 255),\n",
       " ('District', 254, None, None, None, None, 0, 1, 255),\n",
       " ('Population', 3, None, None, None, None, 0, 32769, 63)]"
      ]
     },
     "execution_count": 93,
     "metadata": {},
     "output_type": "execute_result"
    }
   ],
   "source": [
    "cu.description"
   ]
  },
  {
   "cell_type": "code",
   "execution_count": 95,
   "metadata": {},
   "outputs": [],
   "source": [
    "col_names=[i[0] for i in cu.description]"
   ]
  },
  {
   "cell_type": "code",
   "execution_count": 96,
   "metadata": {},
   "outputs": [
    {
     "data": {
      "text/plain": [
       "['ID', 'Name', 'CountryCode', 'District', 'Population']"
      ]
     },
     "execution_count": 96,
     "metadata": {},
     "output_type": "execute_result"
    }
   ],
   "source": [
    "col_names"
   ]
  },
  {
   "cell_type": "code",
   "execution_count": 97,
   "metadata": {},
   "outputs": [],
   "source": [
    "r=[dict(zip(col_names,j)) for j in select]"
   ]
  },
  {
   "cell_type": "code",
   "execution_count": 98,
   "metadata": {},
   "outputs": [
    {
     "data": {
      "text/plain": [
       "[{'ID': 1,\n",
       "  'Name': 'Kabul',\n",
       "  'CountryCode': 'AFG',\n",
       "  'District': 'Kabol',\n",
       "  'Population': 1780000},\n",
       " {'ID': 2,\n",
       "  'Name': 'Qandahar',\n",
       "  'CountryCode': 'AFG',\n",
       "  'District': 'Qandahar',\n",
       "  'Population': 237500},\n",
       " {'ID': 3,\n",
       "  'Name': 'Herat',\n",
       "  'CountryCode': 'AFG',\n",
       "  'District': 'Herat',\n",
       "  'Population': 186800},\n",
       " {'ID': 4,\n",
       "  'Name': 'Mazar-e-Sharif',\n",
       "  'CountryCode': 'AFG',\n",
       "  'District': 'Balkh',\n",
       "  'Population': 127800},\n",
       " {'ID': 5,\n",
       "  'Name': 'Amsterdam',\n",
       "  'CountryCode': 'NLD',\n",
       "  'District': 'Noord-Holland',\n",
       "  'Population': 731200},\n",
       " {'ID': 6,\n",
       "  'Name': 'Rotterdam',\n",
       "  'CountryCode': 'NLD',\n",
       "  'District': 'Zuid-Holland',\n",
       "  'Population': 593321},\n",
       " {'ID': 7,\n",
       "  'Name': 'Haag',\n",
       "  'CountryCode': 'NLD',\n",
       "  'District': 'Zuid-Holland',\n",
       "  'Population': 440900},\n",
       " {'ID': 8,\n",
       "  'Name': 'Utrecht',\n",
       "  'CountryCode': 'NLD',\n",
       "  'District': 'Utrecht',\n",
       "  'Population': 234323},\n",
       " {'ID': 9,\n",
       "  'Name': 'Eindhoven',\n",
       "  'CountryCode': 'NLD',\n",
       "  'District': 'Noord-Brabant',\n",
       "  'Population': 201843},\n",
       " {'ID': 10,\n",
       "  'Name': 'Tilburg',\n",
       "  'CountryCode': 'NLD',\n",
       "  'District': 'Noord-Brabant',\n",
       "  'Population': 193238}]"
      ]
     },
     "execution_count": 98,
     "metadata": {},
     "output_type": "execute_result"
    }
   ],
   "source": [
    "r"
   ]
  },
  {
   "cell_type": "code",
   "execution_count": 16,
   "metadata": {},
   "outputs": [
    {
     "data": {
      "text/plain": [
       "list"
      ]
     },
     "execution_count": 16,
     "metadata": {},
     "output_type": "execute_result"
    }
   ],
   "source": [
    "type(select)"
   ]
  },
  {
   "cell_type": "code",
   "execution_count": 99,
   "metadata": {},
   "outputs": [
    {
     "data": {
      "text/plain": [
       "[(1, 'Kabul', 'AFG', 'Kabol', 1780000),\n",
       " (2, 'Qandahar', 'AFG', 'Qandahar', 237500),\n",
       " (3, 'Herat', 'AFG', 'Herat', 186800),\n",
       " (4, 'Mazar-e-Sharif', 'AFG', 'Balkh', 127800),\n",
       " (5, 'Amsterdam', 'NLD', 'Noord-Holland', 731200),\n",
       " (6, 'Rotterdam', 'NLD', 'Zuid-Holland', 593321),\n",
       " (7, 'Haag', 'NLD', 'Zuid-Holland', 440900),\n",
       " (8, 'Utrecht', 'NLD', 'Utrecht', 234323),\n",
       " (9, 'Eindhoven', 'NLD', 'Noord-Brabant', 201843),\n",
       " (10, 'Tilburg', 'NLD', 'Noord-Brabant', 193238)]"
      ]
     },
     "execution_count": 99,
     "metadata": {},
     "output_type": "execute_result"
    }
   ],
   "source": [
    "select"
   ]
  },
  {
   "cell_type": "code",
   "execution_count": 100,
   "metadata": {},
   "outputs": [
    {
     "name": "stdout",
     "output_type": "stream",
     "text": [
      "(1, 'Kabul', 'AFG', 'Kabol', 1780000)\n",
      "(2, 'Qandahar', 'AFG', 'Qandahar', 237500)\n",
      "(3, 'Herat', 'AFG', 'Herat', 186800)\n",
      "(4, 'Mazar-e-Sharif', 'AFG', 'Balkh', 127800)\n",
      "(5, 'Amsterdam', 'NLD', 'Noord-Holland', 731200)\n",
      "(6, 'Rotterdam', 'NLD', 'Zuid-Holland', 593321)\n",
      "(7, 'Haag', 'NLD', 'Zuid-Holland', 440900)\n",
      "(8, 'Utrecht', 'NLD', 'Utrecht', 234323)\n",
      "(9, 'Eindhoven', 'NLD', 'Noord-Brabant', 201843)\n",
      "(10, 'Tilburg', 'NLD', 'Noord-Brabant', 193238)\n"
     ]
    }
   ],
   "source": [
    "for i in select:\n",
    "    print(i)"
   ]
  },
  {
   "cell_type": "code",
   "execution_count": 19,
   "metadata": {},
   "outputs": [
    {
     "name": "stdout",
     "output_type": "stream",
     "text": [
      "Requirement already satisfied: pandas in c:\\users\\javva\\anaconda3\\lib\\site-packages (1.5.3)\n",
      "Requirement already satisfied: pytz>=2020.1 in c:\\users\\javva\\anaconda3\\lib\\site-packages (from pandas) (2022.7)\n",
      "Requirement already satisfied: numpy>=1.21.0 in c:\\users\\javva\\anaconda3\\lib\\site-packages (from pandas) (1.23.5)\n",
      "Requirement already satisfied: python-dateutil>=2.8.1 in c:\\users\\javva\\anaconda3\\lib\\site-packages (from pandas) (2.8.2)\n",
      "Requirement already satisfied: six>=1.5 in c:\\users\\javva\\anaconda3\\lib\\site-packages (from python-dateutil>=2.8.1->pandas) (1.16.0)\n"
     ]
    }
   ],
   "source": [
    "!pip install pandas"
   ]
  },
  {
   "cell_type": "code",
   "execution_count": 20,
   "metadata": {},
   "outputs": [],
   "source": [
    "import pandas as pd"
   ]
  },
  {
   "cell_type": "code",
   "execution_count": 101,
   "metadata": {},
   "outputs": [],
   "source": [
    "df=pd.DataFrame(r)"
   ]
  },
  {
   "cell_type": "code",
   "execution_count": 102,
   "metadata": {},
   "outputs": [
    {
     "data": {
      "text/html": [
       "<div>\n",
       "<style scoped>\n",
       "    .dataframe tbody tr th:only-of-type {\n",
       "        vertical-align: middle;\n",
       "    }\n",
       "\n",
       "    .dataframe tbody tr th {\n",
       "        vertical-align: top;\n",
       "    }\n",
       "\n",
       "    .dataframe thead th {\n",
       "        text-align: right;\n",
       "    }\n",
       "</style>\n",
       "<table border=\"1\" class=\"dataframe\">\n",
       "  <thead>\n",
       "    <tr style=\"text-align: right;\">\n",
       "      <th></th>\n",
       "      <th>ID</th>\n",
       "      <th>Name</th>\n",
       "      <th>CountryCode</th>\n",
       "      <th>District</th>\n",
       "      <th>Population</th>\n",
       "    </tr>\n",
       "  </thead>\n",
       "  <tbody>\n",
       "    <tr>\n",
       "      <th>0</th>\n",
       "      <td>1</td>\n",
       "      <td>Kabul</td>\n",
       "      <td>AFG</td>\n",
       "      <td>Kabol</td>\n",
       "      <td>1780000</td>\n",
       "    </tr>\n",
       "    <tr>\n",
       "      <th>1</th>\n",
       "      <td>2</td>\n",
       "      <td>Qandahar</td>\n",
       "      <td>AFG</td>\n",
       "      <td>Qandahar</td>\n",
       "      <td>237500</td>\n",
       "    </tr>\n",
       "    <tr>\n",
       "      <th>2</th>\n",
       "      <td>3</td>\n",
       "      <td>Herat</td>\n",
       "      <td>AFG</td>\n",
       "      <td>Herat</td>\n",
       "      <td>186800</td>\n",
       "    </tr>\n",
       "    <tr>\n",
       "      <th>3</th>\n",
       "      <td>4</td>\n",
       "      <td>Mazar-e-Sharif</td>\n",
       "      <td>AFG</td>\n",
       "      <td>Balkh</td>\n",
       "      <td>127800</td>\n",
       "    </tr>\n",
       "    <tr>\n",
       "      <th>4</th>\n",
       "      <td>5</td>\n",
       "      <td>Amsterdam</td>\n",
       "      <td>NLD</td>\n",
       "      <td>Noord-Holland</td>\n",
       "      <td>731200</td>\n",
       "    </tr>\n",
       "    <tr>\n",
       "      <th>5</th>\n",
       "      <td>6</td>\n",
       "      <td>Rotterdam</td>\n",
       "      <td>NLD</td>\n",
       "      <td>Zuid-Holland</td>\n",
       "      <td>593321</td>\n",
       "    </tr>\n",
       "    <tr>\n",
       "      <th>6</th>\n",
       "      <td>7</td>\n",
       "      <td>Haag</td>\n",
       "      <td>NLD</td>\n",
       "      <td>Zuid-Holland</td>\n",
       "      <td>440900</td>\n",
       "    </tr>\n",
       "    <tr>\n",
       "      <th>7</th>\n",
       "      <td>8</td>\n",
       "      <td>Utrecht</td>\n",
       "      <td>NLD</td>\n",
       "      <td>Utrecht</td>\n",
       "      <td>234323</td>\n",
       "    </tr>\n",
       "    <tr>\n",
       "      <th>8</th>\n",
       "      <td>9</td>\n",
       "      <td>Eindhoven</td>\n",
       "      <td>NLD</td>\n",
       "      <td>Noord-Brabant</td>\n",
       "      <td>201843</td>\n",
       "    </tr>\n",
       "    <tr>\n",
       "      <th>9</th>\n",
       "      <td>10</td>\n",
       "      <td>Tilburg</td>\n",
       "      <td>NLD</td>\n",
       "      <td>Noord-Brabant</td>\n",
       "      <td>193238</td>\n",
       "    </tr>\n",
       "  </tbody>\n",
       "</table>\n",
       "</div>"
      ],
      "text/plain": [
       "   ID            Name CountryCode       District  Population\n",
       "0   1           Kabul         AFG          Kabol     1780000\n",
       "1   2        Qandahar         AFG       Qandahar      237500\n",
       "2   3           Herat         AFG          Herat      186800\n",
       "3   4  Mazar-e-Sharif         AFG          Balkh      127800\n",
       "4   5       Amsterdam         NLD  Noord-Holland      731200\n",
       "5   6       Rotterdam         NLD   Zuid-Holland      593321\n",
       "6   7            Haag         NLD   Zuid-Holland      440900\n",
       "7   8         Utrecht         NLD        Utrecht      234323\n",
       "8   9       Eindhoven         NLD  Noord-Brabant      201843\n",
       "9  10         Tilburg         NLD  Noord-Brabant      193238"
      ]
     },
     "execution_count": 102,
     "metadata": {},
     "output_type": "execute_result"
    }
   ],
   "source": [
    "df"
   ]
  },
  {
   "cell_type": "code",
   "execution_count": 23,
   "metadata": {},
   "outputs": [
    {
     "name": "stderr",
     "output_type": "stream",
     "text": [
      "C:\\Users\\javva\\AppData\\Local\\Temp\\ipykernel_12416\\3943870924.py:1: FutureWarning: this method is deprecated in favour of `Styler.hide(axis=\"index\")`\n",
      "  df_1=df.style.hide_index()\n"
     ]
    }
   ],
   "source": [
    "df_1=df.style.hide_index()"
   ]
  },
  {
   "cell_type": "code",
   "execution_count": 24,
   "metadata": {},
   "outputs": [
    {
     "data": {
      "text/html": [
       "<style type=\"text/css\">\n",
       "</style>\n",
       "<table id=\"T_525f3\">\n",
       "  <thead>\n",
       "    <tr>\n",
       "      <th id=\"T_525f3_level0_col0\" class=\"col_heading level0 col0\" >ID</th>\n",
       "      <th id=\"T_525f3_level0_col1\" class=\"col_heading level0 col1\" >Name</th>\n",
       "      <th id=\"T_525f3_level0_col2\" class=\"col_heading level0 col2\" >CountryCode</th>\n",
       "      <th id=\"T_525f3_level0_col3\" class=\"col_heading level0 col3\" >District</th>\n",
       "      <th id=\"T_525f3_level0_col4\" class=\"col_heading level0 col4\" >Population</th>\n",
       "    </tr>\n",
       "  </thead>\n",
       "  <tbody>\n",
       "    <tr>\n",
       "      <td id=\"T_525f3_row0_col0\" class=\"data row0 col0\" >1</td>\n",
       "      <td id=\"T_525f3_row0_col1\" class=\"data row0 col1\" >Kabul</td>\n",
       "      <td id=\"T_525f3_row0_col2\" class=\"data row0 col2\" >AFG</td>\n",
       "      <td id=\"T_525f3_row0_col3\" class=\"data row0 col3\" >Kabol</td>\n",
       "      <td id=\"T_525f3_row0_col4\" class=\"data row0 col4\" >1780000</td>\n",
       "    </tr>\n",
       "    <tr>\n",
       "      <td id=\"T_525f3_row1_col0\" class=\"data row1 col0\" >2</td>\n",
       "      <td id=\"T_525f3_row1_col1\" class=\"data row1 col1\" >Qandahar</td>\n",
       "      <td id=\"T_525f3_row1_col2\" class=\"data row1 col2\" >AFG</td>\n",
       "      <td id=\"T_525f3_row1_col3\" class=\"data row1 col3\" >Qandahar</td>\n",
       "      <td id=\"T_525f3_row1_col4\" class=\"data row1 col4\" >237500</td>\n",
       "    </tr>\n",
       "    <tr>\n",
       "      <td id=\"T_525f3_row2_col0\" class=\"data row2 col0\" >3</td>\n",
       "      <td id=\"T_525f3_row2_col1\" class=\"data row2 col1\" >Herat</td>\n",
       "      <td id=\"T_525f3_row2_col2\" class=\"data row2 col2\" >AFG</td>\n",
       "      <td id=\"T_525f3_row2_col3\" class=\"data row2 col3\" >Herat</td>\n",
       "      <td id=\"T_525f3_row2_col4\" class=\"data row2 col4\" >186800</td>\n",
       "    </tr>\n",
       "    <tr>\n",
       "      <td id=\"T_525f3_row3_col0\" class=\"data row3 col0\" >4</td>\n",
       "      <td id=\"T_525f3_row3_col1\" class=\"data row3 col1\" >Mazar-e-Sharif</td>\n",
       "      <td id=\"T_525f3_row3_col2\" class=\"data row3 col2\" >AFG</td>\n",
       "      <td id=\"T_525f3_row3_col3\" class=\"data row3 col3\" >Balkh</td>\n",
       "      <td id=\"T_525f3_row3_col4\" class=\"data row3 col4\" >127800</td>\n",
       "    </tr>\n",
       "    <tr>\n",
       "      <td id=\"T_525f3_row4_col0\" class=\"data row4 col0\" >5</td>\n",
       "      <td id=\"T_525f3_row4_col1\" class=\"data row4 col1\" >Amsterdam</td>\n",
       "      <td id=\"T_525f3_row4_col2\" class=\"data row4 col2\" >NLD</td>\n",
       "      <td id=\"T_525f3_row4_col3\" class=\"data row4 col3\" >Noord-Holland</td>\n",
       "      <td id=\"T_525f3_row4_col4\" class=\"data row4 col4\" >731200</td>\n",
       "    </tr>\n",
       "  </tbody>\n",
       "</table>\n"
      ],
      "text/plain": [
       "<pandas.io.formats.style.Styler at 0x140fde87520>"
      ]
     },
     "execution_count": 24,
     "metadata": {},
     "output_type": "execute_result"
    }
   ],
   "source": [
    "df_1"
   ]
  },
  {
   "cell_type": "code",
   "execution_count": 25,
   "metadata": {},
   "outputs": [],
   "source": [
    "df_2=df.style.hide(axis='index')"
   ]
  },
  {
   "cell_type": "code",
   "execution_count": 26,
   "metadata": {},
   "outputs": [
    {
     "data": {
      "text/html": [
       "<style type=\"text/css\">\n",
       "</style>\n",
       "<table id=\"T_972aa\">\n",
       "  <thead>\n",
       "    <tr>\n",
       "      <th id=\"T_972aa_level0_col0\" class=\"col_heading level0 col0\" >ID</th>\n",
       "      <th id=\"T_972aa_level0_col1\" class=\"col_heading level0 col1\" >Name</th>\n",
       "      <th id=\"T_972aa_level0_col2\" class=\"col_heading level0 col2\" >CountryCode</th>\n",
       "      <th id=\"T_972aa_level0_col3\" class=\"col_heading level0 col3\" >District</th>\n",
       "      <th id=\"T_972aa_level0_col4\" class=\"col_heading level0 col4\" >Population</th>\n",
       "    </tr>\n",
       "  </thead>\n",
       "  <tbody>\n",
       "    <tr>\n",
       "      <td id=\"T_972aa_row0_col0\" class=\"data row0 col0\" >1</td>\n",
       "      <td id=\"T_972aa_row0_col1\" class=\"data row0 col1\" >Kabul</td>\n",
       "      <td id=\"T_972aa_row0_col2\" class=\"data row0 col2\" >AFG</td>\n",
       "      <td id=\"T_972aa_row0_col3\" class=\"data row0 col3\" >Kabol</td>\n",
       "      <td id=\"T_972aa_row0_col4\" class=\"data row0 col4\" >1780000</td>\n",
       "    </tr>\n",
       "    <tr>\n",
       "      <td id=\"T_972aa_row1_col0\" class=\"data row1 col0\" >2</td>\n",
       "      <td id=\"T_972aa_row1_col1\" class=\"data row1 col1\" >Qandahar</td>\n",
       "      <td id=\"T_972aa_row1_col2\" class=\"data row1 col2\" >AFG</td>\n",
       "      <td id=\"T_972aa_row1_col3\" class=\"data row1 col3\" >Qandahar</td>\n",
       "      <td id=\"T_972aa_row1_col4\" class=\"data row1 col4\" >237500</td>\n",
       "    </tr>\n",
       "    <tr>\n",
       "      <td id=\"T_972aa_row2_col0\" class=\"data row2 col0\" >3</td>\n",
       "      <td id=\"T_972aa_row2_col1\" class=\"data row2 col1\" >Herat</td>\n",
       "      <td id=\"T_972aa_row2_col2\" class=\"data row2 col2\" >AFG</td>\n",
       "      <td id=\"T_972aa_row2_col3\" class=\"data row2 col3\" >Herat</td>\n",
       "      <td id=\"T_972aa_row2_col4\" class=\"data row2 col4\" >186800</td>\n",
       "    </tr>\n",
       "    <tr>\n",
       "      <td id=\"T_972aa_row3_col0\" class=\"data row3 col0\" >4</td>\n",
       "      <td id=\"T_972aa_row3_col1\" class=\"data row3 col1\" >Mazar-e-Sharif</td>\n",
       "      <td id=\"T_972aa_row3_col2\" class=\"data row3 col2\" >AFG</td>\n",
       "      <td id=\"T_972aa_row3_col3\" class=\"data row3 col3\" >Balkh</td>\n",
       "      <td id=\"T_972aa_row3_col4\" class=\"data row3 col4\" >127800</td>\n",
       "    </tr>\n",
       "    <tr>\n",
       "      <td id=\"T_972aa_row4_col0\" class=\"data row4 col0\" >5</td>\n",
       "      <td id=\"T_972aa_row4_col1\" class=\"data row4 col1\" >Amsterdam</td>\n",
       "      <td id=\"T_972aa_row4_col2\" class=\"data row4 col2\" >NLD</td>\n",
       "      <td id=\"T_972aa_row4_col3\" class=\"data row4 col3\" >Noord-Holland</td>\n",
       "      <td id=\"T_972aa_row4_col4\" class=\"data row4 col4\" >731200</td>\n",
       "    </tr>\n",
       "  </tbody>\n",
       "</table>\n"
      ],
      "text/plain": [
       "<pandas.io.formats.style.Styler at 0x140fdde8d90>"
      ]
     },
     "execution_count": 26,
     "metadata": {},
     "output_type": "execute_result"
    }
   ],
   "source": [
    "df_2"
   ]
  },
  {
   "cell_type": "code",
   "execution_count": 103,
   "metadata": {},
   "outputs": [
    {
     "data": {
      "text/plain": [
       "'[{\"ID\":1,\"Name\":\"Kabul\",\"CountryCode\":\"AFG\",\"District\":\"Kabol\",\"Population\":1780000},{\"ID\":2,\"Name\":\"Qandahar\",\"CountryCode\":\"AFG\",\"District\":\"Qandahar\",\"Population\":237500},{\"ID\":3,\"Name\":\"Herat\",\"CountryCode\":\"AFG\",\"District\":\"Herat\",\"Population\":186800},{\"ID\":4,\"Name\":\"Mazar-e-Sharif\",\"CountryCode\":\"AFG\",\"District\":\"Balkh\",\"Population\":127800},{\"ID\":5,\"Name\":\"Amsterdam\",\"CountryCode\":\"NLD\",\"District\":\"Noord-Holland\",\"Population\":731200},{\"ID\":6,\"Name\":\"Rotterdam\",\"CountryCode\":\"NLD\",\"District\":\"Zuid-Holland\",\"Population\":593321},{\"ID\":7,\"Name\":\"Haag\",\"CountryCode\":\"NLD\",\"District\":\"Zuid-Holland\",\"Population\":440900},{\"ID\":8,\"Name\":\"Utrecht\",\"CountryCode\":\"NLD\",\"District\":\"Utrecht\",\"Population\":234323},{\"ID\":9,\"Name\":\"Eindhoven\",\"CountryCode\":\"NLD\",\"District\":\"Noord-Brabant\",\"Population\":201843},{\"ID\":10,\"Name\":\"Tilburg\",\"CountryCode\":\"NLD\",\"District\":\"Noord-Brabant\",\"Population\":193238}]'"
      ]
     },
     "execution_count": 103,
     "metadata": {},
     "output_type": "execute_result"
    }
   ],
   "source": [
    "a=df.to_json(orient='records')\n",
    "a"
   ]
  },
  {
   "cell_type": "code",
   "execution_count": 28,
   "metadata": {},
   "outputs": [
    {
     "data": {
      "text/plain": [
       "str"
      ]
     },
     "execution_count": 28,
     "metadata": {},
     "output_type": "execute_result"
    }
   ],
   "source": [
    "type(a)"
   ]
  },
  {
   "cell_type": "code",
   "execution_count": 29,
   "metadata": {},
   "outputs": [],
   "source": [
    "import json"
   ]
  },
  {
   "cell_type": "code",
   "execution_count": 104,
   "metadata": {},
   "outputs": [],
   "source": [
    "b=json.loads(a)"
   ]
  },
  {
   "cell_type": "code",
   "execution_count": 105,
   "metadata": {},
   "outputs": [
    {
     "data": {
      "text/plain": [
       "[{'ID': 1,\n",
       "  'Name': 'Kabul',\n",
       "  'CountryCode': 'AFG',\n",
       "  'District': 'Kabol',\n",
       "  'Population': 1780000},\n",
       " {'ID': 2,\n",
       "  'Name': 'Qandahar',\n",
       "  'CountryCode': 'AFG',\n",
       "  'District': 'Qandahar',\n",
       "  'Population': 237500},\n",
       " {'ID': 3,\n",
       "  'Name': 'Herat',\n",
       "  'CountryCode': 'AFG',\n",
       "  'District': 'Herat',\n",
       "  'Population': 186800},\n",
       " {'ID': 4,\n",
       "  'Name': 'Mazar-e-Sharif',\n",
       "  'CountryCode': 'AFG',\n",
       "  'District': 'Balkh',\n",
       "  'Population': 127800},\n",
       " {'ID': 5,\n",
       "  'Name': 'Amsterdam',\n",
       "  'CountryCode': 'NLD',\n",
       "  'District': 'Noord-Holland',\n",
       "  'Population': 731200},\n",
       " {'ID': 6,\n",
       "  'Name': 'Rotterdam',\n",
       "  'CountryCode': 'NLD',\n",
       "  'District': 'Zuid-Holland',\n",
       "  'Population': 593321},\n",
       " {'ID': 7,\n",
       "  'Name': 'Haag',\n",
       "  'CountryCode': 'NLD',\n",
       "  'District': 'Zuid-Holland',\n",
       "  'Population': 440900},\n",
       " {'ID': 8,\n",
       "  'Name': 'Utrecht',\n",
       "  'CountryCode': 'NLD',\n",
       "  'District': 'Utrecht',\n",
       "  'Population': 234323},\n",
       " {'ID': 9,\n",
       "  'Name': 'Eindhoven',\n",
       "  'CountryCode': 'NLD',\n",
       "  'District': 'Noord-Brabant',\n",
       "  'Population': 201843},\n",
       " {'ID': 10,\n",
       "  'Name': 'Tilburg',\n",
       "  'CountryCode': 'NLD',\n",
       "  'District': 'Noord-Brabant',\n",
       "  'Population': 193238}]"
      ]
     },
     "execution_count": 105,
     "metadata": {},
     "output_type": "execute_result"
    }
   ],
   "source": [
    "b"
   ]
  },
  {
   "cell_type": "code",
   "execution_count": 32,
   "metadata": {},
   "outputs": [
    {
     "data": {
      "text/plain": [
       "list"
      ]
     },
     "execution_count": 32,
     "metadata": {},
     "output_type": "execute_result"
    }
   ],
   "source": [
    "type(b)"
   ]
  },
  {
   "cell_type": "code",
   "execution_count": 33,
   "metadata": {},
   "outputs": [
    {
     "data": {
      "text/plain": [
       "{'ID': 1,\n",
       " 'Name': 'Kabul',\n",
       " 'CountryCode': 'AFG',\n",
       " 'District': 'Kabol',\n",
       " 'Population': 1780000}"
      ]
     },
     "execution_count": 33,
     "metadata": {},
     "output_type": "execute_result"
    }
   ],
   "source": [
    "b[0]"
   ]
  },
  {
   "cell_type": "code",
   "execution_count": 34,
   "metadata": {},
   "outputs": [
    {
     "name": "stdout",
     "output_type": "stream",
     "text": [
      "Requirement already satisfied: confluent_kafka in c:\\users\\javva\\anaconda3\\lib\\site-packages (2.1.0)\n"
     ]
    }
   ],
   "source": [
    "!pip install confluent_kafka"
   ]
  },
  {
   "cell_type": "code",
   "execution_count": 35,
   "metadata": {},
   "outputs": [],
   "source": [
    "from confluent_kafka import Producer"
   ]
  },
  {
   "cell_type": "code",
   "execution_count": 106,
   "metadata": {},
   "outputs": [],
   "source": [
    "def login_info():\n",
    "    info={\n",
    "        'bootstrap.servers':'pkc-lzvrd.us-west4.gcp.confluent.cloud:9092',\n",
    "        'security.protocol':'SASL_SSL',\n",
    "        'sasl.mechanism':'PLAIN',\n",
    "        'sasl.username':'P3FP4JOSTVZS2XWF',\n",
    "        'sasl.password':'j4N3yUaVe6y6oRsie5upI3isMePZKRD3C7dozvKSu35DBe12nnIj6XUd9JUIbvZp',\n",
    "        'partitioner':'consistent_random'\n",
    "\n",
    "    }\n",
    "    return info"
   ]
  },
  {
   "cell_type": "code",
   "execution_count": 107,
   "metadata": {},
   "outputs": [],
   "source": [
    "p=Producer(login_info())"
   ]
  },
  {
   "cell_type": "code",
   "execution_count": 108,
   "metadata": {},
   "outputs": [
    {
     "name": "stdout",
     "output_type": "stream",
     "text": [
      "{'test': TopicMetadata(test, 3 partitions)}\n"
     ]
    }
   ],
   "source": [
    "print(p.list_topics().topics)"
   ]
  },
  {
   "cell_type": "code",
   "execution_count": 109,
   "metadata": {},
   "outputs": [],
   "source": [
    "import random"
   ]
  },
  {
   "cell_type": "code",
   "execution_count": 110,
   "metadata": {},
   "outputs": [
    {
     "data": {
      "text/plain": [
       "9"
      ]
     },
     "execution_count": 110,
     "metadata": {},
     "output_type": "execute_result"
    }
   ],
   "source": [
    "index=random.randint(0,len(b)-1)\n",
    "index"
   ]
  },
  {
   "cell_type": "code",
   "execution_count": 111,
   "metadata": {},
   "outputs": [
    {
     "name": "stdout",
     "output_type": "stream",
     "text": [
      "0\n",
      "1\n",
      "2\n",
      "3\n",
      "4\n",
      "5\n",
      "6\n",
      "7\n",
      "8\n",
      "9\n"
     ]
    },
    {
     "data": {
      "text/plain": [
       "[{'ID': 1,\n",
       "  'Name': 'Kabul',\n",
       "  'CountryCode': 'AFG',\n",
       "  'District': 'Kabol',\n",
       "  'Population': 1780000},\n",
       " {'ID': 2,\n",
       "  'Name': 'Qandahar',\n",
       "  'CountryCode': 'AFG',\n",
       "  'District': 'Qandahar',\n",
       "  'Population': 237500},\n",
       " {'ID': 3,\n",
       "  'Name': 'Herat',\n",
       "  'CountryCode': 'AFG',\n",
       "  'District': 'Herat',\n",
       "  'Population': 186800},\n",
       " {'ID': 4,\n",
       "  'Name': 'Mazar-e-Sharif',\n",
       "  'CountryCode': 'AFG',\n",
       "  'District': 'Balkh',\n",
       "  'Population': 127800},\n",
       " {'ID': 5,\n",
       "  'Name': 'Amsterdam',\n",
       "  'CountryCode': 'NLD',\n",
       "  'District': 'Noord-Holland',\n",
       "  'Population': 731200},\n",
       " {'ID': 6,\n",
       "  'Name': 'Rotterdam',\n",
       "  'CountryCode': 'NLD',\n",
       "  'District': 'Zuid-Holland',\n",
       "  'Population': 593321},\n",
       " {'ID': 7,\n",
       "  'Name': 'Haag',\n",
       "  'CountryCode': 'NLD',\n",
       "  'District': 'Zuid-Holland',\n",
       "  'Population': 440900},\n",
       " {'ID': 8,\n",
       "  'Name': 'Utrecht',\n",
       "  'CountryCode': 'NLD',\n",
       "  'District': 'Utrecht',\n",
       "  'Population': 234323},\n",
       " {'ID': 9,\n",
       "  'Name': 'Eindhoven',\n",
       "  'CountryCode': 'NLD',\n",
       "  'District': 'Noord-Brabant',\n",
       "  'Population': 201843},\n",
       " {'ID': 10,\n",
       "  'Name': 'Tilburg',\n",
       "  'CountryCode': 'NLD',\n",
       "  'District': 'Noord-Brabant',\n",
       "  'Population': 193238}]"
      ]
     },
     "execution_count": 111,
     "metadata": {},
     "output_type": "execute_result"
    }
   ],
   "source": [
    "msg=[]\n",
    "for j in range(0,len(b)):\n",
    "    print(j)\n",
    "    msg.append(b[j])\n",
    "\n",
    "msg"
   ]
  },
  {
   "cell_type": "code",
   "execution_count": 112,
   "metadata": {},
   "outputs": [],
   "source": [
    "def delivery_status(err,msg):\n",
    "    if err:\n",
    "        print(f'Message failed to deliver due to the following error {str(err)}')\n",
    "    else:\n",
    "        print(f'The Message has been delivered successfully {msg.value()}. Partition-->{msg.partition()} at the Offset--->{msg.offset()}')\n",
    "        print(f'The following messages are pushed to Topic--->{msg.topic()}')"
   ]
  },
  {
   "cell_type": "code",
   "execution_count": 132,
   "metadata": {},
   "outputs": [
    {
     "name": "stdout",
     "output_type": "stream",
     "text": [
      "The Message has been delivered successfully b\"{'ID': 1, 'Name': 'Kabul', 'CountryCode': 'AFG', 'District': 'Kabol', 'Population': 1780000}\". Partition-->1 at the Offset--->14\n",
      "The following messages are pushed to Topic--->topic_1\n",
      "The Message has been delivered successfully b\"{'ID': 2, 'Name': 'Qandahar', 'CountryCode': 'AFG', 'District': 'Qandahar', 'Population': 237500}\". Partition-->1 at the Offset--->15\n",
      "The following messages are pushed to Topic--->topic_1\n",
      "The Message has been delivered successfully b\"{'ID': 3, 'Name': 'Herat', 'CountryCode': 'AFG', 'District': 'Herat', 'Population': 186800}\". Partition-->0 at the Offset--->19\n",
      "The following messages are pushed to Topic--->topic_1\n",
      "The Message has been delivered successfully b\"{'ID': 4, 'Name': 'Mazar-e-Sharif', 'CountryCode': 'AFG', 'District': 'Balkh', 'Population': 127800}\". Partition-->0 at the Offset--->20\n",
      "The following messages are pushed to Topic--->topic_1\n",
      "The Message has been delivered successfully b\"{'ID': 5, 'Name': 'Amsterdam', 'CountryCode': 'NLD', 'District': 'Noord-Holland', 'Population': 731200}\". Partition-->0 at the Offset--->21\n",
      "The following messages are pushed to Topic--->topic_1\n",
      "The Message has been delivered successfully b\"{'ID': 6, 'Name': 'Rotterdam', 'CountryCode': 'NLD', 'District': 'Zuid-Holland', 'Population': 593321}\". Partition-->1 at the Offset--->16\n",
      "The following messages are pushed to Topic--->topic_1\n",
      "The Message has been delivered successfully b\"{'ID': 7, 'Name': 'Haag', 'CountryCode': 'NLD', 'District': 'Zuid-Holland', 'Population': 440900}\". Partition-->2 at the Offset--->17\n",
      "The following messages are pushed to Topic--->topic_1\n",
      "The Message has been delivered successfully b\"{'ID': 8, 'Name': 'Utrecht', 'CountryCode': 'NLD', 'District': 'Utrecht', 'Population': 234323}\". Partition-->1 at the Offset--->17\n",
      "The following messages are pushed to Topic--->topic_1\n",
      "The Message has been delivered successfully b\"{'ID': 9, 'Name': 'Eindhoven', 'CountryCode': 'NLD', 'District': 'Noord-Brabant', 'Population': 201843}\". Partition-->1 at the Offset--->18\n",
      "The following messages are pushed to Topic--->topic_1\n",
      "Flushing records\n",
      "The Message has been delivered successfully b\"{'ID': 10, 'Name': 'Tilburg', 'CountryCode': 'NLD', 'District': 'Noord-Brabant', 'Population': 193238}\". Partition-->1 at the Offset--->19\n",
      "The following messages are pushed to Topic--->topic_1\n"
     ]
    },
    {
     "data": {
      "text/plain": [
       "0"
      ]
     },
     "execution_count": 132,
     "metadata": {},
     "output_type": "execute_result"
    }
   ],
   "source": [
    "try:\n",
    "    for j in range(0,len(b)):\n",
    "        msg=b[j]\n",
    "        p.poll(1.0)\n",
    "        p.produce(topic='topic_1',value=str(msg).encode('utf-8'),on_delivery=delivery_status)\n",
    "except er as Exception:\n",
    "    print('The following error was failed due to the error-->',er)\n",
    "print('Flushing records')\n",
    "\n",
    "p.flush()"
   ]
  },
  {
   "cell_type": "code",
   "execution_count": 48,
   "metadata": {},
   "outputs": [],
   "source": [
    "from confluent_kafka import Consumer"
   ]
  },
  {
   "cell_type": "code",
   "execution_count": 114,
   "metadata": {},
   "outputs": [],
   "source": [
    "def login_info():\n",
    "    info={\n",
    "        'bootstrap.servers':'pkc-lzvrd.us-west4.gcp.confluent.cloud:9092',\n",
    "        'security.protocol':'SASL_SSL',\n",
    "        'sasl.mechanism':'PLAIN',\n",
    "        'sasl.username':'P3FP4JOSTVZS2XWF',\n",
    "        'sasl.password':'j4N3yUaVe6y6oRsie5upI3isMePZKRD3C7dozvKSu35DBe12nnIj6XUd9JUIbvZp',\n",
    "        'partitioner':'consistent_random',\n",
    "        'group.id':'testing',\n",
    "        'auto.offset.reset':'earliest'\n",
    "\n",
    "    }\n",
    "    return info"
   ]
  },
  {
   "cell_type": "code",
   "execution_count": 115,
   "metadata": {},
   "outputs": [],
   "source": [
    "c=Consumer(login_info())"
   ]
  },
  {
   "cell_type": "code",
   "execution_count": 116,
   "metadata": {},
   "outputs": [
    {
     "name": "stdout",
     "output_type": "stream",
     "text": [
      "{'test': TopicMetadata(test, 3 partitions)}\n"
     ]
    }
   ],
   "source": [
    "print(c.list_topics().topics)\n",
    "d=c.list_topics().topics"
   ]
  },
  {
   "cell_type": "code",
   "execution_count": 117,
   "metadata": {},
   "outputs": [],
   "source": [
    "topic='test'"
   ]
  },
  {
   "cell_type": "code",
   "execution_count": 118,
   "metadata": {},
   "outputs": [],
   "source": [
    "c.subscribe([topic])"
   ]
  }
 ],
 "metadata": {
  "kernelspec": {
   "display_name": "base",
   "language": "python",
   "name": "python3"
  },
  "language_info": {
   "codemirror_mode": {
    "name": "ipython",
    "version": 3
   },
   "file_extension": ".py",
   "mimetype": "text/x-python",
   "name": "python",
   "nbconvert_exporter": "python",
   "pygments_lexer": "ipython3",
   "version": "3.10.9"
  },
  "orig_nbformat": 4
 },
 "nbformat": 4,
 "nbformat_minor": 2
}
